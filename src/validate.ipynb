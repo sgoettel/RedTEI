{
 "cells": [
  {
   "cell_type": "code",
   "execution_count": 1,
   "metadata": {},
   "outputs": [],
   "source": [
    "import lzma\n",
    "import os\n",
    "from pickle import load as load_pickle\n",
    "\n",
    "import lxml\n",
    "from lxml import etree"
   ]
  },
  {
   "cell_type": "code",
   "execution_count": 2,
   "metadata": {},
   "outputs": [],
   "source": [
    "# insert path to TEI schema here\n",
    "TEI_SCHEMA = '../tei-schema-pickle.lzma'\n",
    "\n",
    "with lzma.open(TEI_SCHEMA, 'rb') as schemafile:\n",
    "    schema_data = load_pickle(schemafile)\n",
    "TEI_RELAXNG = etree.RelaxNG(etree.fromstring(schema_data))\n"
   ]
  },
  {
   "cell_type": "code",
   "execution_count": 3,
   "metadata": {},
   "outputs": [],
   "source": [
    "def validate(path):\n",
    "    xmldoc = etree.parse(path)\n",
    "    result = TEI_RELAXNG.validate(xmldoc)\n",
    "    if result is False:\n",
    "        print('not a valid TEI document: %s', TEI_RELAXNG.error_log)\n",
    "        print(path, result)\n",
    "    return result"
   ]
  },
  {
   "cell_type": "code",
   "execution_count": 4,
   "metadata": {},
   "outputs": [],
   "source": [
    "pathlist = [f'wohnen_filtered_xml/{path}' for path in\n",
    "            os.listdir('wohnen_filtered_xml')]\n",
    "\n",
    "for path in pathlist:\n",
    "    validate(path)"
   ]
  }
 ],
 "metadata": {
  "kernelspec": {
   "display_name": ".venv",
   "language": "python",
   "name": "python3"
  },
  "language_info": {
   "codemirror_mode": {
    "name": "ipython",
    "version": 3
   },
   "file_extension": ".py",
   "mimetype": "text/x-python",
   "name": "python",
   "nbconvert_exporter": "python",
   "pygments_lexer": "ipython3",
   "version": "3.10.6"
  },
  "orig_nbformat": 4
 },
 "nbformat": 4,
 "nbformat_minor": 2
}
